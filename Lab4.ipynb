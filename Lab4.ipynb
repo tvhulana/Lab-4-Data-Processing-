{
 "cells": [
  {
   "cell_type": "code",
   "execution_count": 3,
   "id": "e92cca9a",
   "metadata": {},
   "outputs": [
    {
     "name": "stdout",
     "output_type": "stream",
     "text": [
      "      A     B     C    D\n",
      "0   1.0   2.0   3.0  4.0\n",
      "1   5.0   6.0   NaN  8.0\n",
      "2  10.0  11.0  12.0  NaN\n",
      "A    0\n",
      "B    0\n",
      "C    1\n",
      "D    1\n",
      "dtype: int64\n"
     ]
    }
   ],
   "source": [
    "import pandas as pd\n",
    "from io import StringIO\n",
    "import numpy as np\n",
    "\n",
    "\n",
    "csv_data = '''A,B,C,D\n",
    "1.0,2.0,3.0,4.0\n",
    "5.0,6.0,,8.0\n",
    "10.0,11.0,12.0,'''\n",
    "df = pd.read_csv(StringIO(csv_data))\n",
    "print(df)\n",
    "print(df.isnull().sum())"
   ]
  },
  {
   "cell_type": "markdown",
   "id": "7fbe133b",
   "metadata": {},
   "source": [
    "A has 0, B has 0, c has 1, and D has 1 missing values.\n",
    "\n"
   ]
  },
  {
   "cell_type": "markdown",
   "id": "5e70b1a5",
   "metadata": {},
   "source": [
    "Excersise 1.1"
   ]
  },
  {
   "cell_type": "code",
   "execution_count": 4,
   "id": "01cf61c3",
   "metadata": {},
   "outputs": [
    {
     "name": "stdout",
     "output_type": "stream",
     "text": [
      "\n",
      "Modified DataFrame:\n",
      "       A     B     C    D\n",
      "0   1.0   2.0   3.0  4.0\n",
      "1   5.0   6.0   NaN  8.0\n",
      "2  10.0  11.0  12.0  NaN\n",
      "3   NaN   7.0   NaN  5.0\n",
      "\n",
      "Missing values after modification:\n",
      " A    1\n",
      "B    0\n",
      "C    2\n",
      "D    1\n",
      "dtype: int64\n"
     ]
    }
   ],
   "source": [
    "df.loc[3] = [np.nan, 7, np.nan, 5]\n",
    "print(\"\\nModified DataFrame:\\n\", df)\n",
    "print(\"\\nMissing values after modification:\\n\", df.isnull().sum())"
   ]
  },
  {
   "cell_type": "markdown",
   "id": "22211aeb",
   "metadata": {},
   "source": [
    "Exercise 1.2"
   ]
  },
  {
   "cell_type": "code",
   "execution_count": 5,
   "id": "c50b6d23",
   "metadata": {},
   "outputs": [
    {
     "name": "stdout",
     "output_type": "stream",
     "text": [
      "\n",
      "Drop rows with any missing values:\n",
      "      A    B    C    D\n",
      "0  1.0  2.0  3.0  4.0\n",
      "\n",
      "Drop columns with any missing values:\n",
      "       B\n",
      "0   2.0\n",
      "1   6.0\n",
      "2  11.0\n",
      "3   7.0\n",
      "\n",
      "Drop rows where all values are missing:\n",
      "       A     B     C    D\n",
      "0   1.0   2.0   3.0  4.0\n",
      "1   5.0   6.0   NaN  8.0\n",
      "2  10.0  11.0  12.0  NaN\n",
      "3   NaN   7.0   NaN  5.0\n",
      "\n",
      "Drop rows with fewer than 4 non-missing values:\n",
      "      A    B    C    D\n",
      "0  1.0  2.0  3.0  4.0\n",
      "\n",
      "Drop rows where column 'C' is missing:\n",
      "       A     B     C    D\n",
      "0   1.0   2.0   3.0  4.0\n",
      "2  10.0  11.0  12.0  NaN\n"
     ]
    }
   ],
   "source": [
    "print(\"\\nDrop rows with any missing values:\\n\", df.dropna(axis=0))\n",
    "print(\"\\nDrop columns with any missing values:\\n\", df.dropna(axis=1))\n",
    "print(\"\\nDrop rows where all values are missing:\\n\", df.dropna(how='all'))\n",
    "print(\"\\nDrop rows with fewer than 4 non-missing values:\\n\", df.dropna(thresh=4))\n",
    "print(\"\\nDrop rows where column 'C' is missing:\\n\", df.dropna(subset=['C']))"
   ]
  },
  {
   "cell_type": "markdown",
   "id": "663b368a",
   "metadata": {},
   "source": [
    "Exercise 1.3"
   ]
  },
  {
   "cell_type": "code",
   "execution_count": 6,
   "id": "fc71aeb2",
   "metadata": {},
   "outputs": [
    {
     "name": "stdout",
     "output_type": "stream",
     "text": [
      "\n",
      "Imputed Data (mean strategy):\n",
      " [[ 1.          2.          3.          4.        ]\n",
      " [ 5.          6.          7.5         8.        ]\n",
      " [10.         11.         12.          5.66666667]\n",
      " [ 5.33333333  7.          7.5         5.        ]]\n"
     ]
    }
   ],
   "source": [
    "from sklearn.impute import SimpleImputer\n",
    "imr = SimpleImputer(missing_values=np.nan, strategy='mean')\n",
    "imr = imr.fit(df.values)\n",
    "imputed_data = imr.transform(df.values)\n",
    "print(\"\\nImputed Data (mean strategy):\\n\", imputed_data)\n"
   ]
  },
  {
   "cell_type": "code",
   "execution_count": 8,
   "id": "d73cb443",
   "metadata": {},
   "outputs": [
    {
     "name": "stdout",
     "output_type": "stream",
     "text": [
      "\n",
      "Imputed Data (median strategy):\n",
      " [[ 1.   2.   3.   4. ]\n",
      " [ 5.   6.   7.5  8. ]\n",
      " [10.  11.  12.   5. ]\n",
      " [ 5.   7.   7.5  5. ]]\n"
     ]
    }
   ],
   "source": [
    "# Try 'median'\n",
    "imr_median = SimpleImputer(strategy='median')\n",
    "print(\"\\nImputed Data (median strategy):\\n\", imr_median.fit_transform(df.values))\n"
   ]
  },
  {
   "cell_type": "code",
   "execution_count": 7,
   "id": "8220d300",
   "metadata": {},
   "outputs": [
    {
     "name": "stdout",
     "output_type": "stream",
     "text": [
      "\n",
      "Imputed Data (most_frequent strategy):\n",
      " [[ 1.  2.  3.  4.]\n",
      " [ 5.  6.  3.  8.]\n",
      " [10. 11. 12.  4.]\n",
      " [ 1.  7.  3.  5.]]\n"
     ]
    }
   ],
   "source": [
    "# Try 'most_frequent'\n",
    "imr_freq = SimpleImputer(strategy='most_frequent')\n",
    "print(\"\\nImputed Data (most_frequent strategy):\\n\", imr_freq.fit_transform(df.values))\n"
   ]
  },
  {
   "cell_type": "markdown",
   "id": "f8e7d98e",
   "metadata": {},
   "source": [
    "Section 2 "
   ]
  },
  {
   "cell_type": "code",
   "execution_count": 9,
   "id": "8e02ea83",
   "metadata": {},
   "outputs": [
    {
     "name": "stdout",
     "output_type": "stream",
     "text": [
      "\n",
      "=== Section 2: Handling Categorical Data ===\n"
     ]
    }
   ],
   "source": [
    "print(\"\\n=== Section 2: Handling Categorical Data ===\")\n",
    "\n",
    "df_cat = pd.DataFrame([\n",
    "    ['green', 'M', 10.1, 'class2'],\n",
    "    ['red', 'L', 13.5, 'class1'],\n",
    "    ['blue', 'XL', 15.3, 'class2'],\n",
    "    ['yellow', 'S', 8.7, 'class1']\n",
    "])\n",
    "df_cat.columns = ['color', 'size', 'price', 'classlabel']\n"
   ]
  },
  {
   "cell_type": "code",
   "execution_count": 10,
   "id": "d96d9b25",
   "metadata": {},
   "outputs": [
    {
     "name": "stdout",
     "output_type": "stream",
     "text": [
      "\n",
      "Ordinal Mapping:\n",
      "     color  size  price classlabel\n",
      "0   green     1   10.1     class2\n",
      "1     red     2   13.5     class1\n",
      "2    blue     3   15.3     class2\n",
      "3  yellow     0    8.7     class1\n"
     ]
    }
   ],
   "source": [
    "size_mapping = {'S':0, 'M':1, 'L':2, 'XL':3}\n",
    "df_cat['size'] = df_cat['size'].map(size_mapping)\n",
    "print(\"\\nOrdinal Mapping:\\n\", df_cat)"
   ]
  },
  {
   "cell_type": "code",
   "execution_count": 11,
   "id": "0450201f",
   "metadata": {},
   "outputs": [
    {
     "name": "stdout",
     "output_type": "stream",
     "text": [
      "\n",
      "Inverse Mapping:\n",
      " 0     M\n",
      "1     L\n",
      "2    XL\n",
      "3     S\n",
      "Name: size, dtype: object\n"
     ]
    }
   ],
   "source": [
    "# Inverse mapping\n",
    "inv_size_mapping = {v:k for k,v in size_mapping.items()}\n",
    "print(\"\\nInverse Mapping:\\n\", df_cat['size'].map(inv_size_mapping))"
   ]
  },
  {
   "cell_type": "markdown",
   "id": "ad3b22b4",
   "metadata": {},
   "source": [
    "Exercise 2.2"
   ]
  },
  {
   "cell_type": "code",
   "execution_count": null,
   "id": "58fa4b78",
   "metadata": {},
   "outputs": [],
   "source": [
    "from sklearn.preprocessing import LabelEncoder\n",
    "class_le = LabelEncoder()\n",
    "y = class_le.fit_transform(df_cat['classlabel'].values)\n",
    "print(\"\\nEncoded Class Labels:\\n\", y)\n",
    "print(\"Inverse Transform:\\n\", class_le.inverse_transform(y))"
   ]
  },
  {
   "cell_type": "markdown",
   "id": "90ef1104",
   "metadata": {},
   "source": [
    "Exercise 2.3"
   ]
  },
  {
   "cell_type": "code",
   "execution_count": 13,
   "id": "ac66aaed",
   "metadata": {},
   "outputs": [
    {
     "name": "stdout",
     "output_type": "stream",
     "text": [
      "\n",
      "Label Encoded Features:\n",
      " [[1 1 10.1]\n",
      " [2 2 13.5]\n",
      " [0 3 15.3]\n",
      " [3 0 8.7]]\n",
      "\n",
      "One-Hot Encoding on color:\n",
      " [[0. 1. 0. 0.]\n",
      " [0. 0. 1. 0.]\n",
      " [1. 0. 0. 0.]\n",
      " [0. 0. 0. 1.]]\n",
      "\n",
      "Pandas get_dummies:\n",
      "    price  size  color_green  color_red  color_yellow\n",
      "0   10.1     1         True      False         False\n",
      "1   13.5     2        False       True         False\n",
      "2   15.3     3        False      False         False\n",
      "3    8.7     0        False      False          True\n"
     ]
    }
   ],
   "source": [
    "from sklearn.preprocessing import LabelEncoder\n",
    "\n",
    "\n",
    "X = df_cat[['color', 'size', 'price']].values\n",
    "color_le = LabelEncoder()\n",
    "X[:,0] = color_le.fit_transform(X[:,0])\n",
    "print(\"\\nLabel Encoded Features:\\n\", X)\n",
    "\n",
    "from sklearn.preprocessing import OneHotEncoder\n",
    "ohe = OneHotEncoder()\n",
    "print(\"\\nOne-Hot Encoding on color:\\n\", ohe.fit_transform(X[:,[0]]).toarray())\n",
    "\n",
    "print(\"\\nPandas get_dummies:\\n\", pd.get_dummies(df_cat[['price','color','size']], drop_first=True))\n"
   ]
  },
  {
   "cell_type": "markdown",
   "id": "f1d10a5c",
   "metadata": {},
   "source": [
    "Section 3 "
   ]
  },
  {
   "cell_type": "code",
   "execution_count": 14,
   "id": "988557a8",
   "metadata": {},
   "outputs": [
    {
     "name": "stdout",
     "output_type": "stream",
     "text": [
      "\n",
      "=== Section 3: Partitioning Dataset ===\n",
      "   Class label  Alcohol  Malic acid   Ash  Alcalinity of ash  Magnesium  \\\n",
      "0            1    14.23        1.71  2.43               15.6        127   \n",
      "1            1    13.20        1.78  2.14               11.2        100   \n",
      "2            1    13.16        2.36  2.67               18.6        101   \n",
      "3            1    14.37        1.95  2.50               16.8        113   \n",
      "4            1    13.24        2.59  2.87               21.0        118   \n",
      "\n",
      "   Total phenols  Flavanoids  Nonflavanoid phenols  Proanthocyanins  \\\n",
      "0           2.80        3.06                  0.28             2.29   \n",
      "1           2.65        2.76                  0.26             1.28   \n",
      "2           2.80        3.24                  0.30             2.81   \n",
      "3           3.85        3.49                  0.24             2.18   \n",
      "4           2.80        2.69                  0.39             1.82   \n",
      "\n",
      "   Color intensity   Hue  OD280/OD315 of diluted wines  Proline  \n",
      "0             5.64  1.04                          3.92     1065  \n",
      "1             4.38  1.05                          3.40     1050  \n",
      "2             5.68  1.03                          3.17     1185  \n",
      "3             7.80  0.86                          3.45     1480  \n",
      "4             4.32  1.04                          2.93      735  \n",
      "\n",
      "Train shape: (142, 13) Test shape: (36, 13)\n"
     ]
    }
   ],
   "source": [
    "print(\"\\n=== Section 3: Partitioning Dataset ===\")\n",
    "\n",
    "df_wine = pd.read_csv('https://archive.ics.uci.edu/ml/machine-learning-databases/wine/wine.data', header=None)\n",
    "df_wine.columns = ['Class label','Alcohol','Malic acid','Ash','Alcalinity of ash','Magnesium',\n",
    "                   'Total phenols','Flavanoids','Nonflavanoid phenols','Proanthocyanins',\n",
    "                   'Color intensity','Hue','OD280/OD315 of diluted wines','Proline']\n",
    "print(df_wine.head())\n",
    "\n",
    "from sklearn.model_selection import train_test_split\n",
    "X, y = df_wine.iloc[:,1:].values, df_wine.iloc[:,0].values\n",
    "X_train, X_test, y_train, y_test = train_test_split(X,y,test_size=0.2, random_state=0, stratify=y)\n",
    "print(\"\\nTrain shape:\", X_train.shape, \"Test shape:\", X_test.shape)"
   ]
  },
  {
   "cell_type": "markdown",
   "id": "e5f6c0bf",
   "metadata": {},
   "source": [
    "Section 4"
   ]
  },
  {
   "cell_type": "code",
   "execution_count": 15,
   "id": "2a49470b",
   "metadata": {},
   "outputs": [
    {
     "name": "stdout",
     "output_type": "stream",
     "text": [
      "\n",
      "=== Section 4: Feature Scaling ===\n",
      "\n",
      "First 2 rows after MinMax Scaling:\n",
      " [[0.12573099 0.02964427 0.65240642 0.3814433  0.2962963  0.42068966\n",
      "  0.39451477 0.16981132 0.61075949 0.11634103 0.32978723 0.66300366\n",
      "  0.17261056]\n",
      " [0.79239766 0.14624506 0.51336898 0.31958763 0.30864198 0.42068966\n",
      "  0.44092827 0.24528302 0.36392405 0.28952043 0.73404255 0.56776557\n",
      "  0.7146933 ]]\n",
      "\n",
      "First 2 rows after Standardization:\n",
      " [[-1.45083563 -1.27985582  0.74306024 -0.49136511 -0.37078043 -0.15558334\n",
      "   0.17965734 -1.20822065  1.29150989 -0.84486398 -0.74910758  0.66674895\n",
      "  -0.71247369]\n",
      " [ 1.34746381 -0.75756493 -0.2118226  -0.84257574 -0.29683265 -0.15558334\n",
      "   0.39838279 -0.87620839 -0.0490171  -0.00656951  0.99652401  0.29506888\n",
      "   1.63245344]]\n",
      "\n",
      "Means (approx 0):\n",
      " [-2.00387437e-15 -1.32914024e-16 -1.53711160e-15  1.23922781e-16\n",
      " -1.64187912e-16]\n",
      "Std Dev (approx 1):\n",
      " [1. 1. 1. 1. 1.]\n"
     ]
    }
   ],
   "source": [
    "print(\"\\n=== Section 4: Feature Scaling ===\")\n",
    "\n",
    "from sklearn.preprocessing import MinMaxScaler, StandardScaler\n",
    "\n",
    "# Normalization\n",
    "mms = MinMaxScaler()\n",
    "X_train_norm = mms.fit_transform(X_train)\n",
    "X_test_norm = mms.transform(X_test)\n",
    "print(\"\\nFirst 2 rows after MinMax Scaling:\\n\", X_train_norm[:2])\n",
    "\n",
    "# Standardization\n",
    "stdsc = StandardScaler()\n",
    "X_train_std = stdsc.fit_transform(X_train)\n",
    "X_test_std = stdsc.transform(X_test)\n",
    "print(\"\\nFirst 2 rows after Standardization:\\n\", X_train_std[:2])\n",
    "\n",
    "print(\"\\nMeans (approx 0):\\n\", X_train_std.mean(axis=0)[:5])\n",
    "print(\"Std Dev (approx 1):\\n\", X_train_std.std(axis=0)[:5])"
   ]
  },
  {
   "cell_type": "markdown",
   "id": "5e2e58d1",
   "metadata": {},
   "source": [
    "Section 5 "
   ]
  },
  {
   "cell_type": "code",
   "execution_count": 16,
   "id": "99725d1b",
   "metadata": {},
   "outputs": [
    {
     "name": "stdout",
     "output_type": "stream",
     "text": [
      "\n",
      "=== Section 5: Feature Selection ===\n",
      "\n",
      "Training accuracy: 1.0\n",
      "Test accuracy: 1.0\n",
      "Coefficients:\n",
      " [[ 1.2854338   0.17336193  0.76296771 -1.26093627  0.          0.\n",
      "   1.21603114  0.          0.          0.          0.          0.60445585\n",
      "   2.59637522]\n",
      " [-1.52968628 -0.48605998 -1.08983401  0.58245895  0.          0.\n",
      "   0.56840745  0.072968    0.08639269 -2.12187042  1.00715734  0.\n",
      "  -2.32132165]\n",
      " [ 0.16163589  0.14102717  0.54382033  0.          0.          0.\n",
      "  -2.43694407  0.          0.          1.80201457 -1.06376647 -0.46940921\n",
      "   0.        ]]\n"
     ]
    },
    {
     "name": "stderr",
     "output_type": "stream",
     "text": [
      "c:\\Users\\talif\\AppData\\Local\\Programs\\Python\\Python312\\Lib\\site-packages\\sklearn\\linear_model\\_logistic.py:1281: FutureWarning: 'multi_class' was deprecated in version 1.5 and will be removed in 1.7. Use OneVsRestClassifier(LogisticRegression(..)) instead. Leave it to its default value to avoid this warning.\n",
      "  warnings.warn(\n",
      "c:\\Users\\talif\\AppData\\Local\\Programs\\Python\\Python312\\Lib\\site-packages\\sklearn\\linear_model\\_logistic.py:1296: FutureWarning: Using the 'liblinear' solver for multiclass classification is deprecated. An error will be raised in 1.8. Either use another solver which supports the multinomial loss or wrap the estimator in a OneVsRestClassifier to keep applying a one-versus-rest scheme.\n",
      "  warnings.warn(\n"
     ]
    }
   ],
   "source": [
    "print(\"\\n=== Section 5: Feature Selection ===\")\n",
    "\n",
    "# 5.1 L1 Regularization\n",
    "from sklearn.linear_model import LogisticRegression\n",
    "lr = LogisticRegression(penalty='l1', C=1.0, solver='liblinear', multi_class='ovr')\n",
    "lr.fit(X_train_std, y_train)\n",
    "print(\"\\nTraining accuracy:\", lr.score(X_train_std, y_train))\n",
    "print(\"Test accuracy:\", lr.score(X_test_std, y_test))\n",
    "print(\"Coefficients:\\n\", lr.coef_)"
   ]
  },
  {
   "cell_type": "markdown",
   "id": "270342d2",
   "metadata": {},
   "source": [
    "exercise 5.2"
   ]
  },
  {
   "cell_type": "code",
   "execution_count": 18,
   "id": "a3a36dfe",
   "metadata": {},
   "outputs": [
    {
     "data": {
      "image/png": "[encoded data removed]",
      "text/plain": [
       "<Figure size 640x480 with 1 Axes>"
      ]
     },
     "metadata": {},
     "output_type": "display_data"
    }
   ],
   "source": [
    "from sklearn.base import clone\n",
    "from itertools import combinations\n",
    "from sklearn.metrics import accuracy_score\n",
    "import matplotlib.pyplot as plt\n",
    "\n",
    "\n",
    "class SBS():\n",
    "    def __init__(self, estimator, k_features, scoring=accuracy_score, test_size=0.25, random_state=1):\n",
    "        self.scoring = scoring\n",
    "        self.estimator = clone(estimator)\n",
    "        self.k_features = k_features\n",
    "        self.test_size = test_size\n",
    "        self.random_state = random_state\n",
    "\n",
    "    def fit(self, X, y):\n",
    "        X_train, X_test, y_train, y_test = train_test_split(\n",
    "            X, y, test_size=self.test_size, random_state=self.random_state)\n",
    "        dim = X_train.shape[1]\n",
    "        self.indices_ = tuple(range(dim))\n",
    "        self.subsets_ = [self.indices_]\n",
    "        score = self._calc_score(X_train, y_train, X_test, y_test, self.indices_)\n",
    "        self.scores_ = [score]\n",
    "        \n",
    "        while dim > self.k_features:\n",
    "            scores = []\n",
    "            subsets = []\n",
    "            for p in combinations(self.indices_, r=dim-1):\n",
    "                score = self._calc_score(X_train, y_train, X_test, y_test, p)\n",
    "                scores.append(score)\n",
    "                subsets.append(p)\n",
    "            best = np.argmax(scores)\n",
    "            self.indices_ = subsets[best]\n",
    "            self.subsets_.append(self.indices_)\n",
    "            dim -= 1\n",
    "            self.scores_.append(scores[best])\n",
    "        self.k_score_ = self.scores_[-1]\n",
    "        return self\n",
    "    \n",
    "    def transform(self, X):\n",
    "        return X[:, self.indices_]\n",
    "    \n",
    "    def _calc_score(self, X_train, y_train, X_test, y_test, indices):\n",
    "        self.estimator.fit(X_train[:, indices], y_train)\n",
    "        y_pred = self.estimator.predict(X_test[:, indices])\n",
    "        score = self.scoring(y_test, y_pred)\n",
    "        return score\n",
    "\n",
    "from sklearn.neighbors import KNeighborsClassifier\n",
    "knn = KNeighborsClassifier(n_neighbors=5)\n",
    "sbs = SBS(knn, k_features=1)\n",
    "sbs.fit(X_train_std, y_train)\n",
    "\n",
    "k_feat = [len(k) for k in sbs.subsets_]\n",
    "plt.plot(k_feat, sbs.scores_, marker='o')\n",
    "plt.ylim([0.7, 1.02])\n",
    "plt.ylabel('Accuracy')\n",
    "plt.xlabel('Number of features')\n",
    "plt.title('SBS Feature Selection')\n",
    "plt.grid()\n",
    "plt.show()"
   ]
  },
  {
   "cell_type": "markdown",
   "id": "1ed26e2e",
   "metadata": {},
   "source": [
    "Exercise 5.3"
   ]
  },
  {
   "cell_type": "code",
   "execution_count": 19,
   "id": "2da34ee8",
   "metadata": {},
   "outputs": [
    {
     "name": "stdout",
     "output_type": "stream",
     "text": [
      "\n",
      "Feature Importance Ranking:\n",
      " 1) Proline                        0.188217\n",
      " 2) Flavanoids                     0.151884\n",
      " 3) Color intensity                0.150182\n",
      " 4) Alcohol                        0.137097\n",
      " 5) OD280/OD315 of diluted wines   0.126218\n",
      " 6) Hue                            0.062428\n",
      " 7) Total phenols                  0.051911\n",
      " 8) Malic acid                     0.031839\n",
      " 9) Magnesium                      0.028725\n",
      "10) Alcalinity of ash              0.025410\n",
      "11) Proanthocyanins                0.018676\n",
      "12) Ash                            0.014667\n",
      "13) Nonflavanoid phenols           0.012745\n"
     ]
    },
    {
     "data": {
      "image/png": "[encoded data removed]",
      "text/plain": [
       "<Figure size 640x480 with 1 Axes>"
      ]
     },
     "metadata": {},
     "output_type": "display_data"
    }
   ],
   "source": [
    "from sklearn.ensemble import RandomForestClassifier\n",
    "feat_labels = df_wine.columns[1:]\n",
    "forest = RandomForestClassifier(n_estimators=500, random_state=1)\n",
    "forest.fit(X_train, y_train)\n",
    "importances = forest.feature_importances_\n",
    "indices = np.argsort(importances)[::-1]\n",
    "\n",
    "print(\"\\nFeature Importance Ranking:\")\n",
    "for f in range(X_train.shape[1]):\n",
    "    print(\"%2d) %-*s %f\" % (f+1, 30, feat_labels[indices[f]], importances[indices[f]]))\n",
    "\n",
    "plt.title('Random Forest Feature Importance')\n",
    "plt.bar(range(X_train.shape[1]), importances[indices], align='center')\n",
    "plt.xticks(range(X_train.shape[1]), feat_labels[indices], rotation=90)\n",
    "plt.tight_layout()\n",
    "plt.show()"
   ]
  }
 ],
 "metadata": {
  "kernelspec": {
   "display_name": "Python 3",
   "language": "python",
   "name": "python3"
  },
  "language_info": {
   "codemirror_mode": {
    "name": "ipython",
    "version": 3
   },
   "file_extension": ".py",
   "mimetype": "text/x-python",
   "name": "python",
   "nbconvert_exporter": "python",
   "pygments_lexer": "ipython3",
   "version": "3.12.6"
  }
 },
 "nbformat": 4,
 "nbformat_minor": 5
}
